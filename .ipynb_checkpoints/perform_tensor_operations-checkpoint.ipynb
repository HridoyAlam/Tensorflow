{
 "cells": [
  {
   "cell_type": "code",
   "execution_count": 1,
   "metadata": {},
   "outputs": [],
   "source": [
    "import tensorflow as tf"
   ]
  },
  {
   "cell_type": "code",
   "execution_count": 2,
   "metadata": {},
   "outputs": [],
   "source": [
    "t1 = tf.constant([10,11,12,13])\n",
    "t2 = tf.constant([1,2,3,4])"
   ]
  },
  {
   "cell_type": "code",
   "execution_count": 3,
   "metadata": {},
   "outputs": [
    {
     "name": "stdout",
     "output_type": "stream",
     "text": [
      "tf.Tensor([11 13 15 17], shape=(4,), dtype=int32)\n"
     ]
    }
   ],
   "source": [
    "#add() method\n",
    "print(tf.add(t1,t2))"
   ]
  },
  {
   "cell_type": "code",
   "execution_count": 4,
   "metadata": {},
   "outputs": [
    {
     "name": "stdout",
     "output_type": "stream",
     "text": [
      "tf.Tensor([11 13 15 17], shape=(4,), dtype=int32)\n"
     ]
    }
   ],
   "source": [
    "print(t1+t2)"
   ]
  },
  {
   "cell_type": "code",
   "execution_count": 5,
   "metadata": {},
   "outputs": [
    {
     "name": "stdout",
     "output_type": "stream",
     "text": [
      "tf.Tensor([9 9 9 9], shape=(4,), dtype=int32)\n"
     ]
    }
   ],
   "source": [
    "print(tf.subtract(t1,t2))"
   ]
  },
  {
   "cell_type": "code",
   "execution_count": 6,
   "metadata": {},
   "outputs": [
    {
     "name": "stdout",
     "output_type": "stream",
     "text": [
      "tf.Tensor([9 9 9 9], shape=(4,), dtype=int32)\n"
     ]
    }
   ],
   "source": [
    "print(t1-t2)"
   ]
  },
  {
   "cell_type": "code",
   "execution_count": 7,
   "metadata": {},
   "outputs": [
    {
     "name": "stdout",
     "output_type": "stream",
     "text": [
      "tf.Tensor([10 22 36 52], shape=(4,), dtype=int32)\n"
     ]
    }
   ],
   "source": [
    "print(tf.multiply(t1,t2))"
   ]
  },
  {
   "cell_type": "code",
   "execution_count": 8,
   "metadata": {},
   "outputs": [
    {
     "name": "stdout",
     "output_type": "stream",
     "text": [
      "tf.Tensor([10 22 36 52], shape=(4,), dtype=int32)\n"
     ]
    }
   ],
   "source": [
    "print(t1*t2)"
   ]
  },
  {
   "cell_type": "code",
   "execution_count": 9,
   "metadata": {},
   "outputs": [],
   "source": [
    "t1 = tf.constant([2,4,6,8])\n",
    "t2 = tf.constant([1,2,3,4])"
   ]
  },
  {
   "cell_type": "code",
   "execution_count": 10,
   "metadata": {},
   "outputs": [
    {
     "name": "stdout",
     "output_type": "stream",
     "text": [
      "tf.Tensor([2. 2. 2. 2.], shape=(4,), dtype=float64)\n"
     ]
    }
   ],
   "source": [
    "print(tf.divide(t1,t2))"
   ]
  },
  {
   "cell_type": "code",
   "execution_count": 12,
   "metadata": {},
   "outputs": [
    {
     "name": "stdout",
     "output_type": "stream",
     "text": [
      "tf.Tensor([ 4 16 36 64], shape=(4,), dtype=int32)\n",
      "tf.Tensor([ 1  4  9 16], shape=(4,), dtype=int32)\n"
     ]
    }
   ],
   "source": [
    "print(tf.square(t1))\n",
    "print(tf.square(t2))"
   ]
  },
  {
   "cell_type": "code",
   "execution_count": 13,
   "metadata": {},
   "outputs": [
    {
     "name": "stdout",
     "output_type": "stream",
     "text": [
      "tf.Tensor(5, shape=(), dtype=int32)\n",
      "tf.Tensor(2, shape=(), dtype=int32)\n"
     ]
    }
   ],
   "source": [
    "# for mean value  reduce_method() is used\n",
    "print(tf.reduce_mean(t1))\n",
    "print(tf.reduce_mean(t2))"
   ]
  },
  {
   "cell_type": "code",
   "execution_count": 15,
   "metadata": {},
   "outputs": [
    {
     "name": "stdout",
     "output_type": "stream",
     "text": [
      "tf.Tensor([5 5 5 5], shape=(4,), dtype=int32)\n"
     ]
    }
   ],
   "source": [
    "#multiple operations\n",
    "print(t1 + tf.reduce_mean(t1) - t1)"
   ]
  },
  {
   "cell_type": "code",
   "execution_count": null,
   "metadata": {},
   "outputs": [],
   "source": []
  }
 ],
 "metadata": {
  "kernelspec": {
   "display_name": "Python 3",
   "language": "python",
   "name": "python3"
  },
  "language_info": {
   "codemirror_mode": {
    "name": "ipython",
    "version": 3
   },
   "file_extension": ".py",
   "mimetype": "text/x-python",
   "name": "python",
   "nbconvert_exporter": "python",
   "pygments_lexer": "ipython3",
   "version": "3.7.3"
  }
 },
 "nbformat": 4,
 "nbformat_minor": 2
}
