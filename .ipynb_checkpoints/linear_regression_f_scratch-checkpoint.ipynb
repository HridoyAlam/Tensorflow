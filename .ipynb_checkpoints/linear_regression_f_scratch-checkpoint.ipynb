{
 "cells": [
  {
   "cell_type": "code",
   "execution_count": 3,
   "metadata": {},
   "outputs": [],
   "source": [
    "import tensorflow as tf\n",
    "#for generating numbers\n",
    "import random"
   ]
  },
  {
   "cell_type": "code",
   "execution_count": 14,
   "metadata": {},
   "outputs": [],
   "source": [
    "#Independent variable(x)\n",
    "x = tf.constant([1,2,3,4,5,6], tf.float32)\n",
    "\n",
    "#dependent variable(y)\n",
    "y = tf.constant([100, 200, 300, 400, 500, 600], tf.float32)"
   ]
  },
  {
   "cell_type": "code",
   "execution_count": 16,
   "metadata": {},
   "outputs": [],
   "source": [
    "# Weight (w)\n",
    "w = tf.Variable(tf.constant(random.uniform(0,1)))\n",
    "\n",
    "#bias\n",
    "b = tf.Variable(tf.constant(random.uniform(0,1)))\n"
   ]
  },
  {
   "cell_type": "code",
   "execution_count": 17,
   "metadata": {},
   "outputs": [
    {
     "name": "stdout",
     "output_type": "stream",
     "text": [
      "tf.Tensor([1. 2. 3. 4. 5. 6.], shape=(6,), dtype=float32)\n"
     ]
    }
   ],
   "source": [
    "print(x)"
   ]
  },
  {
   "cell_type": "code",
   "execution_count": 18,
   "metadata": {},
   "outputs": [
    {
     "name": "stdout",
     "output_type": "stream",
     "text": [
      "tf.Tensor([100. 200. 300. 400. 500. 600.], shape=(6,), dtype=float32)\n"
     ]
    }
   ],
   "source": [
    "print(y)"
   ]
  },
  {
   "cell_type": "code",
   "execution_count": 19,
   "metadata": {},
   "outputs": [
    {
     "name": "stdout",
     "output_type": "stream",
     "text": [
      "<tf.Variable 'Variable:0' shape=() dtype=float32, numpy=0.5277656>\n"
     ]
    }
   ],
   "source": [
    "print(w)"
   ]
  },
  {
   "cell_type": "code",
   "execution_count": 20,
   "metadata": {},
   "outputs": [
    {
     "name": "stdout",
     "output_type": "stream",
     "text": [
      "<tf.Variable 'Variable:0' shape=() dtype=float32, numpy=0.3797537>\n"
     ]
    }
   ],
   "source": [
    "print(b)"
   ]
  },
  {
   "cell_type": "code",
   "execution_count": 21,
   "metadata": {},
   "outputs": [],
   "source": [
    "def predict(x, w, b):\n",
    "    y_hat = tf.multiply(w,x) + b\n",
    "    return y_hat"
   ]
  },
  {
   "cell_type": "code",
   "execution_count": 22,
   "metadata": {},
   "outputs": [
    {
     "name": "stdout",
     "output_type": "stream",
     "text": [
      "tf.Tensor([0.9075193 1.4352849 1.9630505 2.490816  3.0185814 3.5463471], shape=(6,), dtype=float32)\n"
     ]
    }
   ],
   "source": [
    "prediction = predict(x, w, b)\n",
    "print(prediction)"
   ]
  },
  {
   "cell_type": "code",
   "execution_count": 23,
   "metadata": {},
   "outputs": [],
   "source": [
    "def loss(y_hat, y):\n",
    "    squared_error = tf.square(y_hat - y)\n",
    "    msc = tf.reduce_mean(squared_error)\n",
    "    return msc"
   ]
  },
  {
   "cell_type": "code",
   "execution_count": 24,
   "metadata": {},
   "outputs": [
    {
     "name": "stdout",
     "output_type": "stream",
     "text": [
      "tf.Tensor(149805.73, shape=(), dtype=float32)\n"
     ]
    }
   ],
   "source": [
    "print(loss(prediction, y))"
   ]
  },
  {
   "cell_type": "code",
   "execution_count": 30,
   "metadata": {},
   "outputs": [],
   "source": [
    "# create a train function which will compute the loss and update the values of\n",
    "#weight and bias using gradient descent\n",
    "\n",
    "def train(x,y,w,b):\n",
    "    #define the learing rate\n",
    "    \n",
    "    learing_rate = 0.05\n",
    "    \n",
    "    with tf.GradientTape() as t:\n",
    "        #grt prediction\n",
    "        y_hat = predict(x, w, b)\n",
    "        \n",
    "        #compute the loss\n",
    "        step_loss = loss(y_hat, y)\n",
    "    #find the gradient\n",
    "    grad_w, grad_b = t.gradient(step_loss, [w,b])\n",
    "    \n",
    "    #update weight\n",
    "    w.assign_sub(learing_rate * grad_w)\n",
    "    \n",
    "    #update bias b = b- learing_rate * grad_b\n",
    "    b.assign_sub(learing_rate * grad_b)"
   ]
  },
  {
   "cell_type": "code",
   "execution_count": 31,
   "metadata": {},
   "outputs": [],
   "source": [
    "#training for 2000 steps\n",
    "#intialize the model\n",
    "\n",
    "for epoch in range(2000):\n",
    "    \n",
    "    #train the model\n",
    "    train(x, y, w, b)"
   ]
  },
  {
   "cell_type": "code",
   "execution_count": 32,
   "metadata": {},
   "outputs": [
    {
     "name": "stdout",
     "output_type": "stream",
     "text": [
      "tf.Tensor([100.000015 200.00002  300.00003  400.00003  500.00003  600.      ], shape=(6,), dtype=float32)\n"
     ]
    }
   ],
   "source": [
    "#predict the predictions\n",
    "prediction = predict(x, w, b)\n",
    "print(prediction)"
   ]
  },
  {
   "cell_type": "code",
   "execution_count": 37,
   "metadata": {},
   "outputs": [
    {
     "name": "stdout",
     "output_type": "stream",
     "text": [
      "tf.Tensor(5.432715e-10, shape=(), dtype=float32)\n"
     ]
    }
   ],
   "source": [
    "print(loss(prediction, y))"
   ]
  },
  {
   "cell_type": "code",
   "execution_count": null,
   "metadata": {},
   "outputs": [],
   "source": []
  }
 ],
 "metadata": {
  "kernelspec": {
   "display_name": "Python 3",
   "language": "python",
   "name": "python3"
  },
  "language_info": {
   "codemirror_mode": {
    "name": "ipython",
    "version": 3
   },
   "file_extension": ".py",
   "mimetype": "text/x-python",
   "name": "python",
   "nbconvert_exporter": "python",
   "pygments_lexer": "ipython3",
   "version": "3.7.3"
  }
 },
 "nbformat": 4,
 "nbformat_minor": 2
}
